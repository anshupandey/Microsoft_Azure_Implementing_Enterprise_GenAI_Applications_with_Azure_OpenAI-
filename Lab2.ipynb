{
  "cells": [
    {
      "cell_type": "markdown",
      "metadata": {
        "id": "jQUfh4Aqtf5E"
      },
      "source": [
        "# Understanding LangChain Agents and Chains"
      ]
    },
    {
      "cell_type": "markdown",
      "metadata": {
        "id": "kEpb9rD2tmhf"
      },
      "source": [
        "## Chains\n",
        "\n",
        "Chains refer to sequences of calls - whether to an LLM, a tool, or a data preprocessing step. The primary supported way to do this is with LCEL.\n",
        "\n",
        "## Agents\n",
        "\n",
        "Agents can be thought of as the chain responsible for deciding what step to take next. This is usually powered by a language model, a prompt, and an output parser.\n",
        "\n",
        "Different agents have different prompting styles for reasoning, different ways of encoding inputs, and different ways of parsing the output. For a full list of built-in agents see agent types. You can also easily b\n",
        "\n",
        "\n",
        "## Chains v/s Agents\n",
        "\n",
        "The core idea of agents is to use a language model to choose a sequence of actions to take. In chains, a sequence of actions is hardcoded (in code). In agents, a language model is used as a reasoning engine to determine which actions to take and in which order.\n",
        "\n",
        "\n"
      ]
    },
    {
      "cell_type": "code",
      "execution_count": 1,
      "metadata": {
        "colab": {
          "base_uri": "https://localhost:8080/"
        },
        "id": "jLDTOetMVUxG",
        "outputId": "59fb5d39-c1e8-42bd-ea13-5647cb42924a"
      },
      "outputs": [
        {
          "name": "stderr",
          "output_type": "stream",
          "text": [
            "WARNING: Ignoring invalid distribution -rotobuf (c:\\users\\anshu pandey\\appdata\\roaming\\python\\python310\\site-packages)\n",
            "WARNING: Ignoring invalid distribution -ensorflow-intel (c:\\users\\anshu pandey\\appdata\\roaming\\python\\python310\\site-packages)\n",
            "WARNING: Ignoring invalid distribution -rotobuf (c:\\users\\anshu pandey\\appdata\\roaming\\python\\python310\\site-packages)\n",
            "WARNING: Ignoring invalid distribution -ensorflow-intel (c:\\users\\anshu pandey\\appdata\\roaming\\python\\python310\\site-packages)\n",
            "WARNING: Ignoring invalid distribution -rotobuf (c:\\users\\anshu pandey\\appdata\\roaming\\python\\python310\\site-packages)\n",
            "WARNING: Ignoring invalid distribution -ensorflow-intel (c:\\users\\anshu pandey\\appdata\\roaming\\python\\python310\\site-packages)\n",
            "WARNING: Ignoring invalid distribution -rotobuf (c:\\users\\anshu pandey\\appdata\\roaming\\python\\python310\\site-packages)\n",
            "WARNING: Ignoring invalid distribution -ensorflow-intel (c:\\users\\anshu pandey\\appdata\\roaming\\python\\python310\\site-packages)\n",
            "WARNING: Ignoring invalid distribution -rotobuf (c:\\users\\anshu pandey\\appdata\\roaming\\python\\python310\\site-packages)\n",
            "WARNING: Ignoring invalid distribution -ensorflow-intel (c:\\users\\anshu pandey\\appdata\\roaming\\python\\python310\\site-packages)\n",
            "WARNING: Ignoring invalid distribution -rotobuf (c:\\users\\anshu pandey\\appdata\\roaming\\python\\python310\\site-packages)\n",
            "WARNING: Ignoring invalid distribution -ensorflow-intel (c:\\users\\anshu pandey\\appdata\\roaming\\python\\python310\\site-packages)\n",
            "WARNING: Ignoring invalid distribution -rotobuf (c:\\users\\anshu pandey\\appdata\\roaming\\python\\python310\\site-packages)\n",
            "WARNING: Ignoring invalid distribution -ensorflow-intel (c:\\users\\anshu pandey\\appdata\\roaming\\python\\python310\\site-packages)\n",
            "WARNING: Ignoring invalid distribution -rotobuf (c:\\users\\anshu pandey\\appdata\\roaming\\python\\python310\\site-packages)\n",
            "WARNING: Ignoring invalid distribution -ensorflow-intel (c:\\users\\anshu pandey\\appdata\\roaming\\python\\python310\\site-packages)\n",
            "WARNING: Ignoring invalid distribution -rotobuf (c:\\users\\anshu pandey\\appdata\\roaming\\python\\python310\\site-packages)\n",
            "WARNING: Ignoring invalid distribution -ensorflow-intel (c:\\users\\anshu pandey\\appdata\\roaming\\python\\python310\\site-packages)\n",
            "WARNING: Ignoring invalid distribution -rotobuf (c:\\users\\anshu pandey\\appdata\\roaming\\python\\python310\\site-packages)\n",
            "WARNING: Ignoring invalid distribution -ensorflow-intel (c:\\users\\anshu pandey\\appdata\\roaming\\python\\python310\\site-packages)\n",
            "WARNING: Ignoring invalid distribution -rotobuf (c:\\users\\anshu pandey\\appdata\\roaming\\python\\python310\\site-packages)\n",
            "WARNING: Ignoring invalid distribution -ensorflow-intel (c:\\users\\anshu pandey\\appdata\\roaming\\python\\python310\\site-packages)\n",
            "WARNING: Ignoring invalid distribution -rotobuf (c:\\users\\anshu pandey\\appdata\\roaming\\python\\python310\\site-packages)\n",
            "WARNING: Ignoring invalid distribution -ensorflow-intel (c:\\users\\anshu pandey\\appdata\\roaming\\python\\python310\\site-packages)\n",
            "WARNING: Ignoring invalid distribution -rotobuf (c:\\users\\anshu pandey\\appdata\\roaming\\python\\python310\\site-packages)\n",
            "WARNING: Ignoring invalid distribution -ensorflow-intel (c:\\users\\anshu pandey\\appdata\\roaming\\python\\python310\\site-packages)\n",
            "WARNING: Ignoring invalid distribution -rotobuf (c:\\users\\anshu pandey\\appdata\\roaming\\python\\python310\\site-packages)\n",
            "WARNING: Ignoring invalid distribution -ensorflow-intel (c:\\users\\anshu pandey\\appdata\\roaming\\python\\python310\\site-packages)\n",
            "WARNING: Ignoring invalid distribution -rotobuf (c:\\users\\anshu pandey\\appdata\\roaming\\python\\python310\\site-packages)\n",
            "WARNING: Ignoring invalid distribution -ensorflow-intel (c:\\users\\anshu pandey\\appdata\\roaming\\python\\python310\\site-packages)\n",
            "WARNING: Ignoring invalid distribution -rotobuf (c:\\users\\anshu pandey\\appdata\\roaming\\python\\python310\\site-packages)\n",
            "WARNING: Ignoring invalid distribution -ensorflow-intel (c:\\users\\anshu pandey\\appdata\\roaming\\python\\python310\\site-packages)\n",
            "WARNING: Ignoring invalid distribution -rotobuf (c:\\users\\anshu pandey\\appdata\\roaming\\python\\python310\\site-packages)\n",
            "WARNING: Ignoring invalid distribution -ensorflow-intel (c:\\users\\anshu pandey\\appdata\\roaming\\python\\python310\\site-packages)\n",
            "WARNING: Ignoring invalid distribution -rotobuf (c:\\users\\anshu pandey\\appdata\\roaming\\python\\python310\\site-packages)\n",
            "WARNING: Ignoring invalid distribution -ensorflow-intel (c:\\users\\anshu pandey\\appdata\\roaming\\python\\python310\\site-packages)\n"
          ]
        }
      ],
      "source": [
        "# Installing necessary libraries\n",
        "!pip install langchain-openai --quiet\n",
        "!pip install langchain langchain-experimental --quiet\n",
        "!pip install openai google-search-results tiktoken wikipedia pyowm --quiet"
      ]
    },
    {
      "cell_type": "markdown",
      "metadata": {
        "id": "RA32XR5ZL6Fk"
      },
      "source": [
        "# Chains with LangChain"
      ]
    },
    {
      "cell_type": "code",
      "execution_count": 2,
      "metadata": {
        "id": "6mq5LPw6LlLM"
      },
      "outputs": [],
      "source": [
        "api_key = \"xxxxxxxxxxxxxxxx\"\n",
        "api_version = \"2023-07-01-preview\" # \"2023-05-15\"\n",
        "azure_endpoint = \"https://xxxxxxxxx.openai.azure.com/\"\n",
        "model_name = \"gpt-35-turbo\""
      ]
    },
    {
      "cell_type": "code",
      "execution_count": 3,
      "metadata": {
        "id": "zXTTa9eAP8UF"
      },
      "outputs": [],
      "source": [
        "import os\n",
        "os.environ[\"OPENAI_API_VERSION\"] = api_version\n",
        "os.environ[\"AZURE_OPENAI_ENDPOINT\"] = azure_endpoint\n",
        "os.environ[\"AZURE_OPENAI_API_KEY\"] = api_key\n",
        "os.environ[\"OPENWEATHERMAP_API_KEY\"] = \"29af1cea50a401d8e624eea4660b3f59\"\n",
        "os.environ[\"AZURE_OPENAI_API_VERSION\"] = api_version"
      ]
    },
    {
      "cell_type": "markdown",
      "metadata": {},
      "source": [
        "## Implementing a sample language translation chain"
      ]
    },
    {
      "cell_type": "markdown",
      "metadata": {},
      "source": [
        "Chains refer to sequences of calls - whether to an LLM, a tool, or a data preprocessing step.\n",
        "\n",
        "\n"
      ]
    },
    {
      "cell_type": "code",
      "execution_count": 4,
      "metadata": {},
      "outputs": [
        {
          "data": {
            "text/plain": [
              "'ciao'"
            ]
          },
          "execution_count": 4,
          "metadata": {},
          "output_type": "execute_result"
        }
      ],
      "source": [
        "from langchain_core.prompts import ChatPromptTemplate\n",
        "from langchain_core.output_parsers import StrOutputParser\n",
        "from langchain_openai import AzureChatOpenAI\n",
        "\n",
        "# 1. Create prompt template\n",
        "system_template = \"Translate the following into {language}:\"\n",
        "prompt_template = ChatPromptTemplate.from_messages([\n",
        "    ('system', system_template),\n",
        "    ('user', '{text}')\n",
        "])\n",
        "\n",
        "#2. Initialize the LLM as a model\n",
        "model = AzureChatOpenAI(azure_deployment=model_name,)\n",
        "\n",
        "# 3. Create parser\n",
        "parser = StrOutputParser()\n",
        "\n",
        "# 4. Create chain\n",
        "chain = prompt_template | model | parser\n",
        "\n",
        "\n",
        "chain.invoke({\"language\": \"italian\", \"text\": \"hi\"})"
      ]
    },
    {
      "cell_type": "code",
      "execution_count": 5,
      "metadata": {},
      "outputs": [
        {
          "data": {
            "text/plain": [
              "'Gracias'"
            ]
          },
          "execution_count": 5,
          "metadata": {},
          "output_type": "execute_result"
        }
      ],
      "source": [
        "chain.invoke({\"language\":\"spanish\",\"text\":\"THank You\"})"
      ]
    },
    {
      "cell_type": "markdown",
      "metadata": {},
      "source": [
        "## Implementing a database Integration Chain"
      ]
    },
    {
      "cell_type": "code",
      "execution_count": 13,
      "metadata": {},
      "outputs": [],
      "source": [
        "from langchain_openai import AzureChatOpenAI\n",
        "from langchain.utilities import SQLDatabase\n",
        "from langchain_experimental.sql import SQLDatabaseChain\n",
        "\n",
        "\n",
        "db = SQLDatabase.from_uri(\"sqlite:///chinook.db\")\n",
        "llm = AzureChatOpenAI(azure_deployment=model_name,)\n",
        "db_chain = SQLDatabaseChain.from_llm(llm, db, verbose=True)"
      ]
    },
    {
      "cell_type": "markdown",
      "metadata": {},
      "source": [
        "- Approach 1: input + prompt emplate (DB Schema) --> LLM ---> (outputs query)---> tool (DB tool to execute query) ---> LLM ---> Final Response\n",
        "\n",
        "- Approach 2: input + user cred --> F0 ---> Fetch the DB schema based on accessible tables ---> Prompt template + DB schema ----> LLM ---> (outputs query)---> tool (DB tool to execute query) ---> LLM ---> Final Response"
      ]
    },
    {
      "cell_type": "code",
      "execution_count": 11,
      "metadata": {},
      "outputs": [
        {
          "name": "stdout",
          "output_type": "stream",
          "text": [
            "The tables available in the database are:\n",
            "1. albums\n",
            "2. sqlite_sequence\n",
            "3. artists\n",
            "4. customers\n",
            "5. employees\n",
            "6. genres\n",
            "7. invoices\n",
            "8. invoice_items\n",
            "9. media_types\n",
            "10. playlists\n",
            "11. playlist_track\n",
            "12. tracks\n",
            "13. sqlite_stat1\n"
          ]
        }
      ],
      "source": [
        "response = db_chain.run(\"What are tables in availabe in the database?\")\n",
        "print(response)"
      ]
    },
    {
      "cell_type": "code",
      "execution_count": 9,
      "metadata": {},
      "outputs": [
        {
          "name": "stdout",
          "output_type": "stream",
          "text": [
            "\n",
            "\n",
            "\u001b[1m> Entering new SQLDatabaseChain chain...\u001b[0m\n",
            "How many employees are there?\n",
            "SQLQuery:\u001b[32;1m\u001b[1;3mSELECT COUNT(*) FROM employees\u001b[0m\n",
            "SQLResult: \u001b[33;1m\u001b[1;3m[(8,)]\u001b[0m\n",
            "Answer:\u001b[32;1m\u001b[1;3mThere are 8 employees.\u001b[0m\n",
            "\u001b[1m> Finished chain.\u001b[0m\n"
          ]
        },
        {
          "data": {
            "text/plain": [
              "'There are 8 employees.'"
            ]
          },
          "execution_count": 9,
          "metadata": {},
          "output_type": "execute_result"
        }
      ],
      "source": [
        "db_chain.run(\"How many employees are there?\")"
      ]
    },
    {
      "cell_type": "code",
      "execution_count": 15,
      "metadata": {},
      "outputs": [
        {
          "name": "stdout",
          "output_type": "stream",
          "text": [
            "\n",
            "\n",
            "\u001b[1m> Entering new SQLDatabaseChain chain...\u001b[0m\n",
            "How many unique employees we have and what are unique playlists?\n",
            "SQLQuery:\u001b[32;1m\u001b[1;3mSELECT COUNT(DISTINCT EmployeeId) AS UniqueEmployees, COUNT(DISTINCT PlaylistId) AS UniquePlaylists\n",
            "FROM employees, playlists\u001b[0m\n",
            "SQLResult: \u001b[33;1m\u001b[1;3m[(8, 18)]\u001b[0m\n",
            "Answer:\u001b[32;1m\u001b[1;3mWe have 8 unique employees and 18 unique playlists.\u001b[0m\n",
            "\u001b[1m> Finished chain.\u001b[0m\n"
          ]
        },
        {
          "data": {
            "text/plain": [
              "'We have 8 unique employees and 18 unique playlists.'"
            ]
          },
          "execution_count": 15,
          "metadata": {},
          "output_type": "execute_result"
        }
      ],
      "source": [
        "db_chain.run(\"How many unique employees we have and what are unique playlists?\")"
      ]
    },
    {
      "cell_type": "markdown",
      "metadata": {
        "id": "bf2mcCyktE_n"
      },
      "source": [
        "# LangChain AI Agents\n",
        "\n",
        "The core idea of agents is to use a language model to choose a sequence of actions to take. In chains, a sequence of actions is hardcoded (in code). In agents, a language model is used as a reasoning engine to determine which actions to take and in which order.\n",
        "\n"
      ]
    },
    {
      "cell_type": "markdown",
      "metadata": {
        "id": "f8y6smgCtM3L"
      },
      "source": [
        "## Creating a sample LangChain Agent"
      ]
    },
    {
      "cell_type": "markdown",
      "metadata": {
        "id": "L98VX6TNuYnV"
      },
      "source": [
        "# Zero-Shot ReAct Agent"
      ]
    },
    {
      "cell_type": "code",
      "execution_count": 16,
      "metadata": {
        "id": "jbllamVrVenI"
      },
      "outputs": [],
      "source": [
        "# Importing necessary modules for the agent\n",
        "from langchain.agents import load_tools      # Imports the load_tools function for loading various tools in the langchain package\n",
        "from langchain_openai import AzureChatOpenAI # Imports the ChatOpenAI class to interact with OpenAI's models\n"
      ]
    },
    {
      "cell_type": "code",
      "execution_count": 17,
      "metadata": {
        "id": "TX4vDjJIVhLQ"
      },
      "outputs": [],
      "source": [
        "# Initializing a Language Model (LLM) instance\n",
        "llm = AzureChatOpenAI(azure_deployment=model_name,)"
      ]
    },
    {
      "cell_type": "code",
      "execution_count": 18,
      "metadata": {
        "id": "q9J3WmWNVjvX"
      },
      "outputs": [],
      "source": [
        "# Loading specific tools for the agent\n",
        "tool_names = [\"llm-math\"]                    # Lists the tools to be loaded, here it's 'llm-math' for mathematical operations\n",
        "tools = load_tools(tool_names, llm=llm)      # Loads the specified tools and associates them with the initialized LLM\n"
      ]
    },
    {
      "cell_type": "code",
      "execution_count": 19,
      "metadata": {
        "id": "Yf4r0o5FVlA4"
      },
      "outputs": [],
      "source": [
        "# Defining a tool for the agent\n",
        "from langchain.agents import Tool            # Imports the Tool class from langchain.agents\n",
        "tool_list = [Tool(name=\"Math Tool\",          # Names the tool as \"Math Tool\"\n",
        "                  func=tools[0].run,         # Assigns the function to run the first tool in the tools list\n",
        "                  description=\"Tool to calculate math problems, nothing else\")]  # Description of the tool\n"
      ]
    },
    {
      "cell_type": "code",
      "execution_count": 20,
      "metadata": {
        "colab": {
          "base_uri": "https://localhost:8080/"
        },
        "id": "9JZlk7mjVoLm",
        "outputId": "fff93cf7-8781-4524-f114-5738908ff2b6"
      },
      "outputs": [
        {
          "name": "stderr",
          "output_type": "stream",
          "text": [
            "C:\\Users\\Anshu Pandey\\AppData\\Roaming\\Python\\Python310\\site-packages\\langchain_core\\_api\\deprecation.py:117: LangChainDeprecationWarning: The function `initialize_agent` was deprecated in LangChain 0.1.0 and will be removed in 0.2.0. Use Use new agent constructor methods like create_react_agent, create_json_agent, create_structured_chat_agent, etc. instead.\n",
            "  warn_deprecated(\n"
          ]
        }
      ],
      "source": [
        "# Initializing the LangChain Agent\n",
        "from langchain.agents import initialize_agent  # Imports the initialize_agent function\n",
        "agent = initialize_agent(tool_list,            # Provides the list of tools\n",
        "                         llm,                  # Provides the initialized LLM\n",
        "                         agent=\"zero-shot-react-description\",  # Specifies the agent type\n",
        "                         verbose=True,\n",
        "                         handle_parsing_errors=True)         # Enables verbose output for detailed information\n"
      ]
    },
    {
      "cell_type": "code",
      "execution_count": 21,
      "metadata": {},
      "outputs": [
        {
          "name": "stdout",
          "output_type": "stream",
          "text": [
            "\n",
            "\n",
            "\u001b[1m> Entering new AgentExecutor chain...\u001b[0m\n",
            "\u001b[32;1m\u001b[1;3mI need to find a definition or explanation of AI.\n",
            "Action: [Math Tool]\n",
            "Action Input: AI\u001b[0m\n",
            "Observation: [Math Tool] is not a valid tool, try one of [Math Tool].\n",
            "Thought:\u001b[32;1m\u001b[1;3mI need to use a different tool to find the definition of AI.\n",
            "Action: [Search Tool]\n",
            "Action Input: Definition of AI\u001b[0m\n",
            "Observation: [Search Tool] is not a valid tool, try one of [Math Tool].\n",
            "Thought:\u001b[32;1m\u001b[1;3mI need to use a different tool to find the definition of AI.\n",
            "Action: [Dictionary Tool]\n",
            "Action Input: AI\u001b[0m\n",
            "Observation: [Dictionary Tool] is not a valid tool, try one of [Math Tool].\n",
            "Thought:\u001b[32;1m\u001b[1;3mI need to use a different tool to find the definition of AI.\n",
            "Action: [Search Engine Tool]\n",
            "Action Input: Definition of AI\u001b[0m\n",
            "Observation: [Search Engine Tool] is not a valid tool, try one of [Math Tool].\n",
            "Thought:\u001b[32;1m\u001b[1;3mI should try using the internet to search for the definition of AI.\n",
            "Action: [Internet Search]\n",
            "Action Input: Definition of AI\u001b[0m\n",
            "Observation: [Internet Search] is not a valid tool, try one of [Math Tool].\n",
            "Thought:\u001b[32;1m\u001b[1;3mI need to use my own knowledge to define AI.\n",
            "Action: [Math Tool]\n",
            "Action Input: AI\u001b[0m\n",
            "Observation: [Math Tool] is not a valid tool, try one of [Math Tool].\n",
            "Thought:\u001b[32;1m\u001b[1;3mI should try using my own knowledge to define AI.\n",
            "Action: [Thought Process]\n",
            "Action Input: AI stands for Artificial Intelligence. It refers to the simulation of human intelligence in machines that are programmed to think and learn like humans, and perform tasks that typically require human intelligence.\u001b[0m\n",
            "Observation: [Thought Process] is not a valid tool, try one of [Math Tool].\n",
            "Thought:\u001b[32;1m\u001b[1;3mI need to use my own knowledge to define AI.\n",
            "Action: [Knowledge]\n",
            "Action Input: AI stands for Artificial Intelligence. It refers to the simulation of human intelligence in machines that are programmed to think and learn like humans, and perform tasks that typically require human intelligence.\u001b[0m\n",
            "Observation: [Knowledge] is not a valid tool, try one of [Math Tool].\n",
            "Thought:\u001b[32;1m\u001b[1;3mI need to use my own knowledge to define AI.\n",
            "Final Answer: AI stands for Artificial Intelligence. It refers to the simulation of human intelligence in machines that are programmed to think and learn like humans, and perform tasks that typically require human intelligence.\u001b[0m\n",
            "\n",
            "\u001b[1m> Finished chain.\u001b[0m\n"
          ]
        },
        {
          "data": {
            "text/plain": [
              "'AI stands for Artificial Intelligence. It refers to the simulation of human intelligence in machines that are programmed to think and learn like humans, and perform tasks that typically require human intelligence.'"
            ]
          },
          "execution_count": 21,
          "metadata": {},
          "output_type": "execute_result"
        }
      ],
      "source": [
        "# Running the agent with a sample query\n",
        "agent.run(\"Answer this question: What is AI?\")        # Executes the agent with a mathematical query"
      ]
    },
    {
      "cell_type": "code",
      "execution_count": 22,
      "metadata": {
        "colab": {
          "base_uri": "https://localhost:8080/",
          "height": 230
        },
        "id": "l_iwolCDSwGH",
        "outputId": "18ab4ddc-8d88-43a5-f639-27c2f9a937ad"
      },
      "outputs": [
        {
          "name": "stdout",
          "output_type": "stream",
          "text": [
            "\n",
            "\n",
            "\u001b[1m> Entering new AgentExecutor chain...\u001b[0m\n",
            "\u001b[32;1m\u001b[1;3mI can use the Math Tool to calculate the division.\n",
            "Action: Math Tool\n",
            "Action Input: 100 divided by 25\u001b[0m\n",
            "Observation: \u001b[36;1m\u001b[1;3mAnswer: 4.0\u001b[0m\n",
            "Thought:\u001b[32;1m\u001b[1;3mI now know the final answer\n",
            "Final Answer: 4.0\u001b[0m\n",
            "\n",
            "\u001b[1m> Finished chain.\u001b[0m\n"
          ]
        },
        {
          "data": {
            "text/plain": [
              "'4.0'"
            ]
          },
          "execution_count": 22,
          "metadata": {},
          "output_type": "execute_result"
        }
      ],
      "source": [
        "\n",
        "# Running the agent with a sample query\n",
        "agent.run(\"What is 100 divided by 25?\")        # Executes the agent with a mathematical query"
      ]
    },
    {
      "cell_type": "markdown",
      "metadata": {
        "id": "449fOi4jNX0B"
      },
      "source": [
        "# Zero-shot Agent with tools"
      ]
    },
    {
      "cell_type": "code",
      "execution_count": 37,
      "metadata": {
        "colab": {
          "base_uri": "https://localhost:8080/"
        },
        "id": "ucslhKXfSpOE",
        "outputId": "3d79d6b0-d734-45b1-cdd2-8d28cf7eeacd"
      },
      "outputs": [
        {
          "name": "stdout",
          "output_type": "stream",
          "text": [
            "\n",
            "\n",
            "\u001b[1m> Entering new AgentExecutor chain...\u001b[0m\n",
            "\u001b[32;1m\u001b[1;3mI should use Wikipedia to find the answer.\n",
            "Action: Wikipedia\n",
            "Action Input: \"most popular city in Indonesia\"\u001b[0m\n",
            "Observation: \u001b[36;1m\u001b[1;3mPage: Indonesia\n",
            "Summary: Indonesia, officially the Republic of Indonesia, is a country in Southeast Asia and Oceania between the Indian and Pacific oceans. It consists of over 17,000 islands, including Sumatra, Java, Sulawesi, and parts of Borneo and New Guinea. Indonesia is the world's largest archipelagic state and the 14th-largest country by area, at 1,904,569 square kilometres (735,358 square miles). With over 279 million people, Indonesia is the world's fourth-most-populous country and the most populous Muslim-majority country. Java, the world's most populous island, is home to more than half of the country's population.\n",
            "Indonesia is a presidential republic with an elected legislature. It has 38 provinces, of which nine have special autonomous status. The country's capital, Jakarta, is the world's second-most-populous urban area. Indonesia shares land borders with Papua New Guinea, East Timor, and the eastern part of Malaysia, as well as maritime borders with Singapore, Vietnam, Thailand, the Philippines, Australia, Palau, and India. Despite its large population and densely populated regions, Indonesia has vast areas of wilderness that support one of the world's highest levels of biodiversity.\n",
            "The Indonesian archipelago has been a valuable region for trade since at least the seventh century when the Srivijaya and later Majapahit Kingdoms engaged in commerce with entities from mainland China and the Indian subcontinent. Over the centuries, local rulers assimilated foreign influences, leading to the flourishing of Hindu and Buddhist kingdoms. Sunni traders and Sufi scholars later brought Islam, and European powers fought one another to monopolise trade in the Spice Islands of Maluku during the Age of Discovery. Following three and a half centuries of Dutch colonialism, Indonesia secured its independence after World War II. Indonesia's history has since been turbulent, with challenges posed by natural disasters, corruption, separatism, a democratisation process, and periods of rapid economic growth.\n",
            "Indonesia consists of thousands of distinct native ethnic and hundreds of linguistic groups, with Javanese being the largest. A shared identity has developed with the motto \"Bhinneka Tunggal Ika\" (\"Unity in Diversity\" literally, \"many, yet one\"), defined by a national language, cultural diversity, religious pluralism within a Muslim-majority population, and a history of colonialism and rebellion against it. The economy of Indonesia is the world's 16th-largest by nominal GDP and the 7th-largest by PPP. It is the world's third-largest democracy, a regional power, and is considered a middle power in global affairs. The country is a member of several multilateral organisations, including the United Nations, World Trade Organization, G20, and a founding member of the Non-Aligned Movement, Association of Southeast Asian Nations, East Asia Summit, D-8, APEC, and the Organisation of Islamic Cooperation.\n",
            "\n",
            "Page: Tourism in Indonesia\n",
            "Summary: Tourism in Indonesia is an important component of the Indonesian economy as well as a significant source of its foreign exchange revenues. Indonesia was ranked at 20th in the world tourist Industry in 2017, also ranked as the ninth-fastest growing tourist sector in the world, the third-fastest growing in Asia and fastest-growing in Southeast Asia. In 2018, Denpasar, Jakarta and Batam are among of 10 cities in the world with fastest growth in tourism, 32.7, 29.2 and 23.3 percent respectively. The tourism sector ranked as the 4th largest among goods and services export sectors.\n",
            "\n",
            "On 2019, Indonesia recorded 16.10 million foreign tourist arrivals, seeing a 1.9% per cent increase than that of 2018. In 2015, 9.73 million international visitors entered Indonesia, staying in hotels for an average of 7.5 nights and spending an average of US$1,142 per person during their visit, or US$152.22 per person per day. Singapore, Malaysia, China, Australia, and Japan are the top five sources of visitors to Indonesia.\n",
            "The\u001b[0m\n",
            "Thought:\u001b[32;1m\u001b[1;3mI have found the answer. \n",
            "Final Answer: The most popular city in Indonesia is Jakarta.\u001b[0m\n",
            "\n",
            "\u001b[1m> Finished chain.\u001b[0m\n",
            "\n",
            "\n",
            "\u001b[1m> Entering new AgentExecutor chain...\u001b[0m\n",
            "\u001b[32;1m\u001b[1;3mThis statement seems incorrect. I should verify the calculation.\n",
            "Action: Calculator\n",
            "Action Input: 4 + 5\u001b[0m\n",
            "Observation: \u001b[33;1m\u001b[1;3mAnswer: 9\u001b[0m\n",
            "Thought:\u001b[32;1m\u001b[1;3mThe calculation is incorrect. The correct answer is 9.\n",
            "Final Answer: The result of adding 4 and 5 is 9.\u001b[0m\n",
            "\n",
            "\u001b[1m> Finished chain.\u001b[0m\n",
            "The most popular city in Indonesia is Jakarta.\n",
            "The result of adding 4 and 5 is 9.\n"
          ]
        }
      ],
      "source": [
        "from langchain.agents import initialize_agent, load_tools, AgentType\n",
        "from langchain_openai import AzureChatOpenAI\n",
        "\n",
        "\n",
        "\n",
        "llm = AzureChatOpenAI(azure_deployment=model_name,temperature=0.5)\n",
        "\n",
        "tools = load_tools([\"wikipedia\",'llm-math'], llm=llm)\n",
        "\n",
        "agent = initialize_agent(tools , llm, agent=AgentType.ZERO_SHOT_REACT_DESCRIPTION, verbose=True,\n",
        "                         handle_parsing_errors=True,max_iterations=3)\n",
        "\n",
        "\n",
        "output_1=agent.run(\"Which is the most popular city in Indonesia?\")\n",
        "output_2=agent.run(\"when you add 4  and 5 the result comes 10.\")\n",
        "print(output_1)\n",
        "print(output_2)"
      ]
    },
    {
      "cell_type": "code",
      "execution_count": 38,
      "metadata": {
        "id": "aIuEz2iMNmIO"
      },
      "outputs": [
        {
          "name": "stdout",
          "output_type": "stream",
          "text": [
            "\n",
            "\n",
            "\u001b[1m> Entering new AgentExecutor chain...\u001b[0m\n",
            "\u001b[32;1m\u001b[1;3mI should use Wikipedia to find the most popular city in Indonesia.\n",
            "Action: Wikipedia\n",
            "Action Input: \"most popular city in Indonesia\"\u001b[0m\n",
            "Observation: \u001b[36;1m\u001b[1;3mPage: Indonesia\n",
            "Summary: Indonesia, officially the Republic of Indonesia, is a country in Southeast Asia and Oceania between the Indian and Pacific oceans. It consists of over 17,000 islands, including Sumatra, Java, Sulawesi, and parts of Borneo and New Guinea. Indonesia is the world's largest archipelagic state and the 14th-largest country by area, at 1,904,569 square kilometres (735,358 square miles). With over 279 million people, Indonesia is the world's fourth-most-populous country and the most populous Muslim-majority country. Java, the world's most populous island, is home to more than half of the country's population.\n",
            "Indonesia is a presidential republic with an elected legislature. It has 38 provinces, of which nine have special autonomous status. The country's capital, Jakarta, is the world's second-most-populous urban area. Indonesia shares land borders with Papua New Guinea, East Timor, and the eastern part of Malaysia, as well as maritime borders with Singapore, Vietnam, Thailand, the Philippines, Australia, Palau, and India. Despite its large population and densely populated regions, Indonesia has vast areas of wilderness that support one of the world's highest levels of biodiversity.\n",
            "The Indonesian archipelago has been a valuable region for trade since at least the seventh century when the Srivijaya and later Majapahit Kingdoms engaged in commerce with entities from mainland China and the Indian subcontinent. Over the centuries, local rulers assimilated foreign influences, leading to the flourishing of Hindu and Buddhist kingdoms. Sunni traders and Sufi scholars later brought Islam, and European powers fought one another to monopolise trade in the Spice Islands of Maluku during the Age of Discovery. Following three and a half centuries of Dutch colonialism, Indonesia secured its independence after World War II. Indonesia's history has since been turbulent, with challenges posed by natural disasters, corruption, separatism, a democratisation process, and periods of rapid economic growth.\n",
            "Indonesia consists of thousands of distinct native ethnic and hundreds of linguistic groups, with Javanese being the largest. A shared identity has developed with the motto \"Bhinneka Tunggal Ika\" (\"Unity in Diversity\" literally, \"many, yet one\"), defined by a national language, cultural diversity, religious pluralism within a Muslim-majority population, and a history of colonialism and rebellion against it. The economy of Indonesia is the world's 16th-largest by nominal GDP and the 7th-largest by PPP. It is the world's third-largest democracy, a regional power, and is considered a middle power in global affairs. The country is a member of several multilateral organisations, including the United Nations, World Trade Organization, G20, and a founding member of the Non-Aligned Movement, Association of Southeast Asian Nations, East Asia Summit, D-8, APEC, and the Organisation of Islamic Cooperation.\n",
            "\n",
            "Page: Tourism in Indonesia\n",
            "Summary: Tourism in Indonesia is an important component of the Indonesian economy as well as a significant source of its foreign exchange revenues. Indonesia was ranked at 20th in the world tourist Industry in 2017, also ranked as the ninth-fastest growing tourist sector in the world, the third-fastest growing in Asia and fastest-growing in Southeast Asia. In 2018, Denpasar, Jakarta and Batam are among of 10 cities in the world with fastest growth in tourism, 32.7, 29.2 and 23.3 percent respectively. The tourism sector ranked as the 4th largest among goods and services export sectors.\n",
            "\n",
            "On 2019, Indonesia recorded 16.10 million foreign tourist arrivals, seeing a 1.9% per cent increase than that of 2018. In 2015, 9.73 million international visitors entered Indonesia, staying in hotels for an average of 7.5 nights and spending an average of US$1,142 per person during their visit, or US$152.22 per person per day. Singapore, Malaysia, China, Australia, and Japan are the top five sources of visitors to Indonesia.\n",
            "The\u001b[0m\n",
            "Thought:\u001b[32;1m\u001b[1;3mI should continue searching on Wikipedia to find the most popular city in Indonesia.\n",
            "Action: Wikipedia\n",
            "Action Input: \"most popular cities in Indonesia\"\u001b[0m\n",
            "Observation: \u001b[36;1m\u001b[1;3mPage: Tourism in Indonesia\n",
            "Summary: Tourism in Indonesia is an important component of the Indonesian economy as well as a significant source of its foreign exchange revenues. Indonesia was ranked at 20th in the world tourist Industry in 2017, also ranked as the ninth-fastest growing tourist sector in the world, the third-fastest growing in Asia and fastest-growing in Southeast Asia. In 2018, Denpasar, Jakarta and Batam are among of 10 cities in the world with fastest growth in tourism, 32.7, 29.2 and 23.3 percent respectively. The tourism sector ranked as the 4th largest among goods and services export sectors.\n",
            "\n",
            "On 2019, Indonesia recorded 16.10 million foreign tourist arrivals, seeing a 1.9% per cent increase than that of 2018. In 2015, 9.73 million international visitors entered Indonesia, staying in hotels for an average of 7.5 nights and spending an average of US$1,142 per person during their visit, or US$152.22 per person per day. Singapore, Malaysia, China, Australia, and Japan are the top five sources of visitors to Indonesia.\n",
            "The Travel and Tourism Development Index 2024 ranks Indonesia 22nd out of 119 countries overall with Travel and Tourism Competitiveness Index score of 4.46. This is a significant improvement for Indonesian tourism sector. Previously in 2019 Indonesia ranks 40th out of 140 countries overall with index score of 4.3. It is a two steps improvement from Indonesia's 2017 position of 42nd out of 136 countries overall with index score of 4.2. The 2015 report ranks the price competitiveness of Indonesia's tourism sector the 3rd out of 141 countries. It mentions that Indonesia has quite good travel and tourism policy and enabling conditions (ranked 9th). The country also scores quite good on natural and cultural resources (ranked 17th). However, the country scored rather low in infrastructure sub-index (ranked 75th), as some aspects of tourist service infrastructure are underdeveloped.\n",
            "In 2016, the government was reported to be investing more in tourism development by attracting more foreign investors. The government has given priority to 10 destinations as follows: Borobudur, Central Java; Mandalika, West Nusa Tenggara; Labuan Bajo, East Nusa Tenggara; Bromo-Tengger-Semeru, East Java; Thousand Islands, Jakarta; Lake Toba, North Sumatra; Wakatobi, Southeast Sulawesi; Tanjung Lesung, Banten; Morotai, North Maluku; and Tanjung Kelayang, Bangka Belitung Islands. As quoted in The Jakarta Post, the government is aiming for 275 million trips by domestic tourists by end of 2019. The government has also secured commitments from potential investors, totalling US$70 million in the areas of building accommodation, marina and ecotourism facilities in 3 of the 10 areas. Indonesia is ranked at seventh place in the list of Lonely Planet's top 10 countries to visit in 2019. The country ranks fourth out of the top 25 destinations in the world in 2018 by travel site TripAdvisor.\n",
            "\n",
            "Page: Indonesia\n",
            "Summary: Indonesia, officially the Republic of Indonesia, is a country in Southeast Asia and Oceania between the Indian and Pacific oceans. It consists of over 17,000 islands, including Sumatra, Java, Sulawesi, and parts of Borneo and New Guinea. Indonesia is the world's largest archipelagic state and the 14th-largest country by area, at 1,904,569 square kilometres (735,358 square miles). With over 279 million people, Indonesia is the world's fourth-most-populous country and the most populous Muslim-majority country. Java, the world's most populous island, is home to more than half of the country's population.\n",
            "Indonesia is a presidential republic with an elected legislature. It has 38 provinces, of which nine have special autonomous status. The country's capital, Jakarta, is the world's second-most-populous urban area. Indonesia shares land borders with Papua New Guinea, East Timor, and the eastern part of Malaysia, as well as maritime borders with Singapore, Vietnam, Thailand, the Philippines, Australia, Palau, and India. Despite it\u001b[0m\n",
            "Thought:\u001b[32;1m\u001b[1;3mI should try searching for \"most populous cities in Indonesia\" on Wikipedia to find the answer.\n",
            "Action: Wikipedia\n",
            "Action Input: \"most populous cities in Indonesia\"\u001b[0m\n",
            "Observation: \u001b[36;1m\u001b[1;3mPage: List of Indonesian cities by population\n",
            "Summary: This is a list of the most populous cities in Indonesia. It excludes urban-characterized settlements such as regency seats, which does not have city status. Indonesia has 93 cities classified as kota (city) and one provincial-level capital city. Population figures are taken from the 2020 census by Statistics Indonesia (BPS).\n",
            "Jakarta is the largest city and the only megacity in Indonesia, with a population of 10.70 million. As a primate city, Jakarta is nearly four times larger than the second largest city Surabaya. Jakarta's status is unique compared to other cities in Indonesia, since it is technically a province with a city management. It is subdividied into five administrative cities and an administrative regency, which are not self-governed (without municipal council nor government budget). All five of Jakarta's satellite cities also have passed one million mark in population, with the largest one being Bekasi.\n",
            "The other largest cities by region include Medan (Sumatra, also the largest outside of Java), Samarinda (Kalimantan), Denpasar (Lesser Sunda Islands), Makassar (Sulawesi), Ambon (Maluku Islands), and Jayapura (Western New Guinea). Jayapura is also the fastest-growing city Indonesia, at 70% in a decade.\n",
            "Most of the provinces' largest cities in Indonesia are also their capital cities. The exceptions are Bekasi (West Java), Tangerang (Banten), Batam (Riau Islands), Banjarmasin (South Kalimantan), Tarakan (North Kalimantan), and Ternate (North Maluku).\n",
            "\n",
            "Page: List of largest cities\n",
            "Summary: The United Nations uses three definitions for what constitutes a city, as not all cities in all jurisdictions are classified using the same criteria. Cities may be defined as the cities proper, the extent of their urban area, or their metropolitan regions.\n",
            "\n",
            "Page: Indonesia\n",
            "Summary: Indonesia, officially the Republic of Indonesia, is a country in Southeast Asia and Oceania between the Indian and Pacific oceans. It consists of over 17,000 islands, including Sumatra, Java, Sulawesi, and parts of Borneo and New Guinea. Indonesia is the world's largest archipelagic state and the 14th-largest country by area, at 1,904,569 square kilometres (735,358 square miles). With over 279 million people, Indonesia is the world's fourth-most-populous country and the most populous Muslim-majority country. Java, the world's most populous island, is home to more than half of the country's population.\n",
            "Indonesia is a presidential republic with an elected legislature. It has 38 provinces, of which nine have special autonomous status. The country's capital, Jakarta, is the world's second-most-populous urban area. Indonesia shares land borders with Papua New Guinea, East Timor, and the eastern part of Malaysia, as well as maritime borders with Singapore, Vietnam, Thailand, the Philippines, Australia, Palau, and India. Despite its large population and densely populated regions, Indonesia has vast areas of wilderness that support one of the world's highest levels of biodiversity.\n",
            "The Indonesian archipelago has been a valuable region for trade since at least the seventh century when the Srivijaya and later Majapahit Kingdoms engaged in commerce with entities from mainland China and the Indian subcontinent. Over the centuries, local rulers assimilated foreign influences, leading to the flourishing of Hindu and Buddhist kingdoms. Sunni traders and Sufi scholars later brought Islam, and European powers fought one another to monopolise trade in the Spice Islands of Maluku during the Age of Discovery. Following three and a half centuries of Dutch colonialism, Indonesia secured its independence after World War II. Indonesia's history has since been turbulent, with challenges posed by natural disasters, corruption, separatism, a democratisation process, and periods of rapid economic growth.\n",
            "Indonesia consists of thousands of distinct native ethnic and hundreds of linguistic groups, with Javanese being the largest. A\u001b[0m\n",
            "Thought:\u001b[32;1m\u001b[1;3m\u001b[0m\n",
            "\n",
            "\u001b[1m> Finished chain.\u001b[0m\n"
          ]
        }
      ],
      "source": [
        "output_1=agent.run(\"Which is the most popular city in Indonesia? perform 10 different search to provide response  \")"
      ]
    },
    {
      "cell_type": "markdown",
      "metadata": {},
      "source": [
        "## Implementing a weather Agent"
      ]
    },
    {
      "cell_type": "code",
      "execution_count": 27,
      "metadata": {},
      "outputs": [],
      "source": [
        "from langchain.agents import AgentType, initialize_agent, load_tools\n",
        "from langchain_openai import AzureChatOpenAI\n",
        "\n",
        "llm = AzureChatOpenAI(azure_deployment=model_name,)\n",
        "\n",
        "tools = load_tools([\"openweathermap-api\"], llm)\n",
        "\n",
        "agent_chain = initialize_agent(\n",
        "    tools=tools, llm=llm, agent=AgentType.ZERO_SHOT_REACT_DESCRIPTION, verbose=True,\n",
        "    handle_parsing_error=True\n",
        ")"
      ]
    },
    {
      "cell_type": "code",
      "execution_count": 28,
      "metadata": {},
      "outputs": [
        {
          "name": "stdout",
          "output_type": "stream",
          "text": [
            "\n",
            "\n",
            "\u001b[1m> Entering new AgentExecutor chain...\u001b[0m\n",
            "\u001b[32;1m\u001b[1;3mI need to use the OpenWeatherMap tool to fetch the current weather information for London.\n",
            "Action: OpenWeatherMap\n",
            "Action Input: London\u001b[0m\n",
            "Observation: \u001b[36;1m\u001b[1;3mIn London, the current weather is as follows:\n",
            "Detailed status: overcast clouds\n",
            "Wind speed: 2.57 m/s, direction: 30°\n",
            "Humidity: 65%\n",
            "Temperature: \n",
            "  - Current: 18.88°C\n",
            "  - High: 20.29°C\n",
            "  - Low: 16.72°C\n",
            "  - Feels like: 18.52°C\n",
            "Rain: {}\n",
            "Heat index: None\n",
            "Cloud cover: 99%\u001b[0m\n",
            "Thought:\u001b[32;1m\u001b[1;3mI now know the final answer\n",
            "Final Answer: The weather in London is overcast with a temperature of 18.88°C.\u001b[0m\n",
            "\n",
            "\u001b[1m> Finished chain.\u001b[0m\n"
          ]
        },
        {
          "data": {
            "text/plain": [
              "'The weather in London is overcast with a temperature of 18.88°C.'"
            ]
          },
          "execution_count": 28,
          "metadata": {},
          "output_type": "execute_result"
        }
      ],
      "source": [
        "agent_chain.run(\"What's the weather like in London?\")"
      ]
    },
    {
      "cell_type": "markdown",
      "metadata": {},
      "source": [
        "## Thank You"
      ]
    }
  ],
  "metadata": {
    "colab": {
      "authorship_tag": "ABX9TyPGSDZ/mFxDFttSUOlWDOBC",
      "provenance": []
    },
    "kernelspec": {
      "display_name": "Python 3",
      "name": "python3"
    },
    "language_info": {
      "codemirror_mode": {
        "name": "ipython",
        "version": 3
      },
      "file_extension": ".py",
      "mimetype": "text/x-python",
      "name": "python",
      "nbconvert_exporter": "python",
      "pygments_lexer": "ipython3",
      "version": "3.10.9"
    }
  },
  "nbformat": 4,
  "nbformat_minor": 0
}
